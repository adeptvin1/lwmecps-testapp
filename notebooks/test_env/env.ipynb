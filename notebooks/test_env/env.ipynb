{
 "cells": [
  {
   "cell_type": "markdown",
   "metadata": {},
   "source": [
    "# Описание\n",
    "Данный ноутбук необходим для подготовки данных для организации эксперимента.\n",
    "Особенностью данного сервиса является использование 2 концепций:\n",
    "\n",
    "- Эксперимент\n",
    "- Группа Экспериментов\n",
    "\n",
    "Использование данного механизма мы можем задавать эксперименты по эмуляции сетевого взаимодействия в LWMECPS динамически изменяя количество запросов и их длительность.\n",
    "1 эксперимент = взаимодействии с 1 нодой\n",
    "\n",
    "Группа экспериментов позволяет включать в себя N экспериментов которые соответствуют N нод.\n",
    "Это в свою очередь позволяет одновременно тестировать например 4 ноды."
   ]
  },
  {
   "cell_type": "code",
   "execution_count": 14,
   "metadata": {},
   "outputs": [],
   "source": [
    "import json\n",
    "import random"
   ]
  },
  {
   "cell_type": "code",
   "execution_count": 21,
   "metadata": {},
   "outputs": [
    {
     "name": "stdout",
     "output_type": "stream",
     "text": [
      "Результаты сохранены в load_profile_with_deviation.json\n"
     ]
    }
   ],
   "source": [
    "# Инициализация переменных\n",
    "# TODO:\n",
    "# 1. Надо учесть еще  \n",
    "\n",
    "json_filename = 'load_profile_with_deviation.json'\n",
    "\n",
    "# Профиль нагрузки (00:00-23:59 (каждый час))\n",
    "load_profile = [\n",
    "    0.89, 0.72, 0.56, 0.47, 0.32, 0.28,\n",
    "    0.22, 0.28, 0.35, 0.48, 0.59, 0.63,\n",
    "    0.73, 0.72, 0.74, 0.75, 0.78, 0.81,\n",
    "    0.85, 0.92, 0.96, 1, 0.98, 0.95\n",
    "]\n",
    "\n",
    "# Девиация (отклонение) от среднего значения\n",
    "deviation = 0.1\n",
    "\n",
    "# Максимальное количество UE\n",
    "max_ue_count = 100\n",
    "\n",
    "# Шаг изменения количества UE в 1 часу в секундах\n",
    "ue_step = 10\n",
    "\n",
    "# Диапазон во времени (часы)\n",
    "time_range = [0, 23]\n",
    "\n",
    "steps = int(3600 / ue_step)\n",
    "\n",
    "json_data = []\n",
    "\n",
    "for hour in range(time_range[0], time_range[1]):\n",
    "    for step in range(steps):\n",
    "        # Генерация случайного отклонения\n",
    "        random_deviation = random.uniform(-deviation, deviation)\n",
    "        # Применение отклонения к значению профиля нагрузки\n",
    "        ue_count = int(load_profile[hour] * (1 + random_deviation) * max_ue_count)\n",
    "        # Вычисление timestamp в секундах\n",
    "        timestamp = hour * 3600 + step * ue_step\n",
    "        result = {\n",
    "            \"timestamp\": timestamp,\n",
    "            \"ue_count\": ue_count\n",
    "        }\n",
    "        json_data.append(result)\n",
    "\n",
    "with open(json_filename, 'w') as f:\n",
    "    json.dump(json_data, f, indent=4)\n",
    "\n",
    "print(f\"Результаты сохранены в {json_filename}\")"
   ]
  },
  {
   "cell_type": "code",
   "execution_count": null,
   "metadata": {},
   "outputs": [],
   "source": [
    "# Генерация JSON для запуска экспериментов\n",
    "# Эксперименты будут запускаться из lwmecps-gym -> https://github.com/adeptvin1/lwmecps-gym"
   ]
  }
 ],
 "metadata": {
  "kernelspec": {
   "display_name": ".venv",
   "language": "python",
   "name": "python3"
  },
  "language_info": {
   "codemirror_mode": {
    "name": "ipython",
    "version": 3
   },
   "file_extension": ".py",
   "mimetype": "text/x-python",
   "name": "python",
   "nbconvert_exporter": "python",
   "pygments_lexer": "ipython3",
   "version": "3.11.6"
  }
 },
 "nbformat": 4,
 "nbformat_minor": 2
}
